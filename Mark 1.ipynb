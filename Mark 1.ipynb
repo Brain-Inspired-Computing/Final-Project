{
 "cells": [
  {
   "cell_type": "markdown",
   "metadata": {},
   "source": [
    "# Research Project - Brain Inspired Computing Fall 2020"
   ]
  },
  {
   "cell_type": "markdown",
   "metadata": {},
   "source": [
    "Goal with this research project is to develop a spiking binary classifier for detecting between residential and industrial labeled satellite images.\n",
    "\n",
    "Our model uses unsupervised learning, more specifically creates a decoder from the training data then uses the decoder to decode the testing data.\n",
    "\n",
    "Google Colab Link: https://colab.research.google.com/drive/1EJoDJLQKNqixMP4WTeH14mGiwUrnpR0t#scrollTo=74kKJEmJ43eS\n",
    "\n",
    "Link to the pitch talk which highlights our idea in more detail: https://docs.google.com/presentation/d/1TsljP_CYUNU8F0qEeb-vXzG6FSWaU5R1PI5Xx1kBa4s/edit?usp=sharing\n",
    "\n",
    "Link to term paper: https://docs.google.com/document/d/1MOwNo2fCIBoCrqcHnFHrbyNMeSEMaRIxoSYYLZOqx7Y/edit?usp=sharing"
   ]
  },
  {
   "cell_type": "code",
   "execution_count": 1,
   "metadata": {},
   "outputs": [
    {
     "name": "stderr",
     "output_type": "stream",
     "text": [
      "In /usr/local/anaconda3/envs/deeplearning/lib/python3.7/site-packages/matplotlib/mpl-data/stylelib/_classic_test.mplstyle: \n",
      "The text.latex.preview rcparam was deprecated in Matplotlib 3.3 and will be removed two minor releases later.\n",
      "In /usr/local/anaconda3/envs/deeplearning/lib/python3.7/site-packages/matplotlib/mpl-data/stylelib/_classic_test.mplstyle: \n",
      "The mathtext.fallback_to_cm rcparam was deprecated in Matplotlib 3.3 and will be removed two minor releases later.\n",
      "In /usr/local/anaconda3/envs/deeplearning/lib/python3.7/site-packages/matplotlib/mpl-data/stylelib/_classic_test.mplstyle: Support for setting the 'mathtext.fallback_to_cm' rcParam is deprecated since 3.3 and will be removed two minor releases later; use 'mathtext.fallback : 'cm' instead.\n",
      "In /usr/local/anaconda3/envs/deeplearning/lib/python3.7/site-packages/matplotlib/mpl-data/stylelib/_classic_test.mplstyle: \n",
      "The validate_bool_maybe_none function was deprecated in Matplotlib 3.3 and will be removed two minor releases later.\n",
      "In /usr/local/anaconda3/envs/deeplearning/lib/python3.7/site-packages/matplotlib/mpl-data/stylelib/_classic_test.mplstyle: \n",
      "The savefig.jpeg_quality rcparam was deprecated in Matplotlib 3.3 and will be removed two minor releases later.\n",
      "In /usr/local/anaconda3/envs/deeplearning/lib/python3.7/site-packages/matplotlib/mpl-data/stylelib/_classic_test.mplstyle: \n",
      "The keymap.all_axes rcparam was deprecated in Matplotlib 3.3 and will be removed two minor releases later.\n",
      "In /usr/local/anaconda3/envs/deeplearning/lib/python3.7/site-packages/matplotlib/mpl-data/stylelib/_classic_test.mplstyle: \n",
      "The animation.avconv_path rcparam was deprecated in Matplotlib 3.3 and will be removed two minor releases later.\n",
      "In /usr/local/anaconda3/envs/deeplearning/lib/python3.7/site-packages/matplotlib/mpl-data/stylelib/_classic_test.mplstyle: \n",
      "The animation.avconv_args rcparam was deprecated in Matplotlib 3.3 and will be removed two minor releases later.\n"
     ]
    }
   ],
   "source": [
    "import numpy as np\n",
    "import matplotlib.pyplot as plt\n",
    "from keras_preprocessing.image import ImageDataGenerator\n",
    "import os\n",
    "import shutil\n",
    "import random\n",
    "np.random.seed(101)"
   ]
  },
  {
   "cell_type": "markdown",
   "metadata": {},
   "source": [
    "## Satellite Dataset \n",
    "\n",
    "Link to the EuroSat Dataset that we used for training and testing: https://github.com/phelber/EuroSAT\n",
    "\n",
    "Split up the satellite dataset into training, validating and testing.\n",
    "\n",
    "~The split ratio is: 70/15/15 (training/validating/testing)~\n",
    "\n",
    "The split ratio is: 80/20 (training/testing)"
   ]
  },
  {
   "cell_type": "code",
   "execution_count": 2,
   "metadata": {},
   "outputs": [],
   "source": [
    "# Creating Train / Val / Test folders \n",
    "root_dir = 'Data'\n",
    "# classes_dir = ['/Industrial', '/Residential']\n",
    "\n",
    "val_ratio = 0.0\n",
    "test_ratio = 0.2\n",
    "\n",
    "def getData(categories): \n",
    "    \"\"\"\n",
    "    categories name of the classes in the EuroSat Dataset (i.e. categories = [\"Industrial\", \"Residential\"]) \n",
    "    the case of the categories needs to match the folder name\n",
    "    \"\"\"\n",
    "    classes_dir = list(map(lambda category:  \"/\" + category, categories))\n",
    "    \n",
    "    for cls in classes_dir:\n",
    "        for name in [\"/train\", \"/val\", \"/test\"]:\n",
    "            path_name = root_dir + name + cls\n",
    "            if not os.path.isdir(path_name):\n",
    "                os.makedirs(path_name)\n",
    "\n",
    "        # Creating partitions of the data after shuffeling\n",
    "        src = root_dir + cls # Folder to copy images from\n",
    "\n",
    "        allFileNames = os.listdir(src)\n",
    "        np.random.shuffle(allFileNames)\n",
    "        train_FileNames, val_FileNames, test_FileNames = np.split(np.array(allFileNames),\n",
    "                                                                  [int(len(allFileNames)* (1 - (val_ratio + test_ratio))), \n",
    "                                                                   int(len(allFileNames)* (1 - test_ratio))])\n",
    "\n",
    "\n",
    "        train_FileNames = [src+'/'+ name for name in train_FileNames.tolist()]\n",
    "        val_FileNames = [src+'/' + name for name in val_FileNames.tolist()]\n",
    "        test_FileNames = [src+'/' + name for name in test_FileNames.tolist()]\n",
    "\n",
    "        print(f'Total images ({cls[1:]}):', len(allFileNames))\n",
    "        print(f'Training ({cls[1:]}): ', len(train_FileNames))\n",
    "        print(f'Validation ({cls[1:]}): ', len(val_FileNames))\n",
    "        print(f'Testing ({cls[1:]}): ', len(test_FileNames))\n",
    "\n",
    "        # Copy-pasting images\n",
    "        for name in train_FileNames:\n",
    "            shutil.copy(name, root_dir +'/train' + cls)\n",
    "\n",
    "        for name in val_FileNames:\n",
    "            shutil.copy(name, root_dir +'/val' + cls)\n",
    "\n",
    "        for name in test_FileNames:\n",
    "            shutil.copy(name, root_dir +'/test' + cls)"
   ]
  },
  {
   "cell_type": "markdown",
   "metadata": {},
   "source": [
    "Images are 64 x 64 (3 Channel rgb) 64x larger than the digit images in assignment 2"
   ]
  },
  {
   "cell_type": "markdown",
   "metadata": {},
   "source": [
    "Picture of Industrial Satellite Image"
   ]
  },
  {
   "cell_type": "code",
   "execution_count": 3,
   "metadata": {
    "scrolled": true
   },
   "outputs": [
    {
     "data": {
      "text/plain": [
       "<matplotlib.image.AxesImage at 0x7fa6fd13bf50>"
      ]
     },
     "execution_count": 3,
     "metadata": {},
     "output_type": "execute_result"
    },
    {
     "data": {
      "image/png": "[encoded data removed]",
      "text/plain": [
       "<Figure size 432x288 with 1 Axes>"
      ]
     },
     "metadata": {
      "needs_background": "light"
     },
     "output_type": "display_data"
    }
   ],
   "source": [
    "pic = plt.imread(\"Data/train/Industrial/Industrial_1.jpg\")\n",
    "# pic.shape\n",
    "plt.imshow(pic)"
   ]
  },
  {
   "cell_type": "markdown",
   "metadata": {},
   "source": [
    "Picture of Residential Satellite Image"
   ]
  },
  {
   "cell_type": "code",
   "execution_count": 4,
   "metadata": {
    "scrolled": false
   },
   "outputs": [
    {
     "data": {
      "text/plain": [
       "<matplotlib.image.AxesImage at 0x7fa6fd22cc10>"
      ]
     },
     "execution_count": 4,
     "metadata": {},
     "output_type": "execute_result"
    },
    {
     "data": {
      "image/png": "[encoded data removed]",
      "text/plain": [
       "<Figure size 432x288 with 1 Axes>"
      ]
     },
     "metadata": {
      "needs_background": "light"
     },
     "output_type": "display_data"
    }
   ],
   "source": [
    "pic = plt.imread(\"Data/train/Residential/Residential_1.jpg\")\n",
    "# pic.shape\n",
    "plt.imshow(pic)"
   ]
  },
  {
   "cell_type": "markdown",
   "metadata": {},
   "source": [
    "We normalize the pixel values between the values of 0 to 1, and fetch our data dividing them into the images (x_..) and their one hot encoded feature category."
   ]
  },
  {
   "cell_type": "code",
   "execution_count": 5,
   "metadata": {},
   "outputs": [
    {
     "name": "stdout",
     "output_type": "stream",
     "text": [
      "Found 5497 images belonging to 2 classes.\n",
      "Found 3577 images belonging to 2 classes.\n"
     ]
    }
   ],
   "source": [
    "datagen = ImageDataGenerator(rescale=1./255) # Keras\n",
    "\n",
    "x_train_iterator = datagen.flow_from_directory('Data/train/', class_mode='categorical',shuffle=True,seed=101,target_size=(64,64), color_mode=\"grayscale\", batch_size=5500)\n",
    "\n",
    "x_train, one_hot_train = x_train_iterator.next()\n",
    "\n",
    "# x_val_iterator = datagen.flow_from_directory('Data/val/', class_mode='categorical',shuffle=True,seed=101,target_size=(64,64), color_mode=\"grayscale\", batch_size=2272)\n",
    "\n",
    "# x_val, one_hot_val = x_val_iterator.next()\n",
    "\n",
    "x_test_iterator = datagen.flow_from_directory('Data/test/', class_mode='categorical',shuffle=True,seed=101,target_size=(64,64), color_mode=\"grayscale\", batch_size=2730)\n",
    "\n",
    "x_test, one_hot_test = x_test_iterator.next()"
   ]
  },
  {
   "cell_type": "markdown",
   "metadata": {},
   "source": [
    "\n",
    "\n",
    "### N.B.:\n",
    "$V_{t+1} = V_{t} + dt * \\frac{dv}{dt}$\n"
   ]
  },
  {
   "cell_type": "markdown",
   "metadata": {},
   "source": [
    "## Training\n",
    "\n",
    "N.B.:\n",
    "\n",
    "**Encoding pixel to current**\n",
    "\n",
    "$J_M(x) = \\alpha x + J^{bias}$\n",
    "- $J_M$ is all past current input since *x*\n",
    "- $\\alpha$ is both the gain and a unit conversion factor\n",
    "- $J^{bias}$ accounts for the steady background input to the cell\n",
    "\n",
    "$J_i(x) = \\alpha_i \\langle x,e_i\\rangle + J^{bias}_i$\n",
    "- $e_i$ - random values normalised to unit length (represents the neuron's encoding or \"preferred direction vector\"\n",
    "- $\\langle\\,\\cdot,\\cdot\\rangle$ denotes the dot product between two vectors\n",
    "\n",
    "---\n",
    "\n",
    "**Decoding (w.o. Noise)**\n",
    "\n",
    "\n",
    "\n",
    "$\\hat{x} = Da$\n",
    "\n",
    "$D^T \\approx (A A^T)^{-1}AX^T$\n",
    "\n",
    "```\n",
    "\"\"\"\n",
    "Decoder Python Code\n",
    "d : Dimensionality of the value represented by a neuron population\n",
    "n : Number of neurons in a neuron population\n",
    "N : Number of samples\n",
    "\"\"\"\n",
    "A = np.array(...) # n x N array\n",
    "X = np.array(...) # d x N array\n",
    "D = np.linal.lstsq(A.T, X.T)[0].T\n",
    "```\n",
    "More Info: [Moore-Penrose Inverse](https://en.wikipedia.org/wiki/Moore%E2%80%93Penrose_inverse)\n",
    "\n",
    "**Decoding (w. Noise)**\n",
    "> Biological neural systems are subject to significant amounts of noise from various sources. Any analysis of such systems must take the effects of noise into account.\n",
    "\n",
    "The idea to introduce noise into our model is by applying regularisation factors to the decoder.\n",
    "\n",
    "$D^T \\approx (A A^T + N \\sigma^2 I)^{-1} A X^T$, where $I$ is the $n$ $x$ $n$ identity matrix\n",
    "\n",
    "```\n",
    "\"\"\"\n",
    "Decoder Python Code\n",
    "\"\"\"\n",
    "A = np.array(...) # n x N array\n",
    "X = np.array(...) # d x N array\n",
    "D = np.linal.lstsq(A @ A.T + 0.5 * N * np.square(sigma) * np.eye(n), A @ X.T)[0].T\n",
    "```\n",
    "\n",
    "---\n",
    "\n",
    "**Computer Firing Rate from Current**\n",
    "\n",
    "\n",
    "- $a(x)$ is the firing rate at time x\n",
    "- $\\tau^{ref}$ refractory period time constant\n",
    "- $\\tau^{RC} $ Membrane time constant (aka the characteristic time or relaxation time)\n",
    "- $J_{th}$ threshold current\n",
    "\n",
    "- $a(x) = \\frac{1}{\\tau^{ref} - \\tau^{RC}ln(1-\\frac{J_{th}}{J_M(x)})}$\n",
    "- assume $J_{th}$ = 1\n",
    "\n",
    "$$\n",
    "G(J) = \\begin{cases} \n",
    "      a(x) = \\frac{1}{\\tau^{ref} - \\tau^{RC}ln(1-\\frac{1}{J_M(x)})} & \\text{if }{J_M(x)} > 1 \\\\\n",
    "      0 & \\text{otherwise}\n",
    "\\end{cases}\n",
    "$$\n",
    "\n",
    "\n",
    "Resources: \n",
    "1. http://compneuro.uwaterloo.ca/courses/syde-750.html\n"
   ]
  },
  {
   "cell_type": "markdown",
   "metadata": {},
   "source": [
    "#### Constants"
   ]
  },
  {
   "cell_type": "code",
   "execution_count": 6,
   "metadata": {},
   "outputs": [],
   "source": [
    "input_size = 4096 # 64 x 64 images\n",
    "hidden_size = 8 # number of neurons in hidden layer\n",
    "\n",
    "# first and second one are for calculating firing rate\n",
    "# third on used in the PSC Filter\n",
    "t_ref = 0.002 #2ms\n",
    "t_rc = 0.02 #20ms\n",
    "t_psc = 0.05 #50ms"
   ]
  },
  {
   "cell_type": "markdown",
   "metadata": {},
   "source": [
    "**Post-synaptic Current Filter**\n",
    "\n",
    "use case is to filter the spike train from the LIF neuron\n",
    "\n",
    "$\n",
    "h(t) = \\begin{cases} \n",
    "      c^{-1} t^n e^{-\\frac{t}{\\tau}} & \\text{if }{t} \\ge 0 \\\\\n",
    "      0 & \\text{otherwise}\n",
    "\\end{cases}\n",
    "$\n",
    "*where n is a non-negative integer, and c normalizes the filter to area one to preserve energy*\n",
    "\n",
    "$c = \\int_{0}^\\infty t^n e^{-\\frac{t}{\\tau}} dt$"
   ]
  },
  {
   "cell_type": "markdown",
   "metadata": {},
   "source": [
    "## Training"
   ]
  },
  {
   "cell_type": "code",
   "execution_count": 7,
   "metadata": {},
   "outputs": [],
   "source": [
    "def PSC_filter(Tsim, dt):\n",
    "    \"\"\"\n",
    "    Temporal Decoder to decode the spike trains during LIF neuron simulation\n",
    "    \"\"\"\n",
    "    t = np.linspace(0,Tsim,int(np.round(Tsim/dt))) #evenly spaced time values\n",
    "    h = np.exp(-(t-Tsim/2)/t_psc) #t_psc is network param\n",
    "    h[0:len(h)//2] = 0 #set first half of h to zero\n",
    "    h = (1/dt)*h/np.sum(h) #divide h by timestep * sum of h\n",
    "    return h\n",
    "\n",
    "def sample_spherical(npoints): #sample a vector of dimension \"ndim\" from the unit sphere randomly\n",
    "    \"\"\"\n",
    "    Returns a ndim unit vector sample\n",
    "    \"\"\"\n",
    "    vec = np.random.randn(npoints)\n",
    "    vec /= np.linalg.norm(vec)\n",
    "    return vec"
   ]
  },
  {
   "cell_type": "code",
   "execution_count": 8,
   "metadata": {},
   "outputs": [],
   "source": [
    "\"\"\"\n",
    "Training \n",
    "\"\"\"\n",
    "\n",
    "alpha_vec = np.zeros(hidden_size)\n",
    "J_bias_vec = np.zeros(hidden_size)\n",
    "e_vec = np.zeros((hidden_size, input_size))\n",
    "num_input = len(x_train)\n",
    "\n",
    "def train():\n",
    "    A_train = np.zeros((num_input, hidden_size))\n",
    "    for i in range(hidden_size):\n",
    "\n",
    "        #Encoding\n",
    "        amax = np.random.uniform(100, 200)  # maximum firing rates randomly chosen (uniformly distributed between 100Hz and 200Hz at x=1)\n",
    "        xi = np.random.uniform(-0.95, 0.95) # x-intercepts uniformly distributed between -0.95 and 0.95\n",
    "\n",
    "        alpha = (1/(1-np.exp((t_ref - 1/amax)/t_rc)) - 1)/(1-xi) # slope=(y2-y1)/(x2-x1)\n",
    "        J_bias = 1 - xi * alpha # y-intercept (assume e in this case to be 1)\n",
    "\n",
    "        e = sample_spherical(input_size) # randomize weight direction (magnitude will be 1)\n",
    "\n",
    "        alpha_vec[i] = alpha #set gain factor\n",
    "        J_bias_vec[i] = J_bias # set residual state\n",
    "        e_vec[i] = e # set weight orientation\n",
    "\n",
    "        a_x = np.zeros(num_input)\n",
    "\n",
    "        # training\n",
    "        for j in range(num_input):\n",
    "            J_M = np.multiply(alpha, np.inner(e, x_train[j].reshape(input_size))) + J_bias\n",
    "            if J_M > 1:\n",
    "                a_x[j] = 1/(t_ref - t_rc*np.log(1- 1/J_M))\n",
    "\n",
    "        A_train[:,i] = a_x\n",
    "\n",
    "\n",
    "    #Add Noise to replicate biological phenomenal\n",
    "    mu, sigma = 0, 0.01*np.max(A_train) # mean and standard deviation\n",
    "    s = np.random.normal(mu, sigma, A_train.shape)\n",
    "    A_noisy = np.add(A_train, s) \n",
    "\n",
    "    # decoding\n",
    "    global decoder\n",
    "    decoder = np.linalg.lstsq(\n",
    "        A_train.T @ A_train + 0.5 * num_input * np.square(sigma) * np.eye(hidden_size), A_train.T @ one_hot_train\n",
    "    , rcond=None)[0]\n",
    "\n",
    "    x_hat = np.dot(A_noisy, decoder)\n",
    "#     MSE = np.mean(np.power(one_hot_train-x_hat, 2))"
   ]
  },
  {
   "cell_type": "markdown",
   "metadata": {},
   "source": [
    "#### Testing\n"
   ]
  },
  {
   "cell_type": "markdown",
   "metadata": {},
   "source": [
    "**LIF Equation**\n",
    "\n",
    "$ \\frac{dv}{dt} = \\frac{1}{\\tau_{rc}}(J-V)$\n",
    "\n",
    "Using Euler's Method\n",
    "\n",
    "$V_{t+1} = V_{t} + dt * \\frac{dv}{dt}$\n"
   ]
  },
  {
   "cell_type": "code",
   "execution_count": 9,
   "metadata": {},
   "outputs": [],
   "source": [
    "\"\"\"\n",
    "Simulating LIF Neuron\n",
    "\"\"\"\n",
    "\n",
    "def simulate_neuron(Tsim, dt, t_rc, t_ref, vrest, vth, J):\n",
    "    N = int(np.round(Tsim/dt))\n",
    "    Vprev = 0\n",
    "    Jprev = 0\n",
    "    spike_train = np.zeros(N)\n",
    "    mutex = 0  \n",
    "    \n",
    "    for i in range(N):\n",
    "        if mutex == 0: #mutex indicates the refractory period\n",
    "            dvdt = 1/(t_rc) * (J[i] - Vprev)\n",
    "            V = Vprev + dt * dvdt\n",
    "            if V < vrest:\n",
    "                V = vrest\n",
    "            elif V > vth:\n",
    "                spike_train[i] = 1\n",
    "                V = vrest\n",
    "                mutex = np.round(t_ref/dt)\n",
    "            Jprev = J[i]\n",
    "            Vprev = V\n",
    "        else:\n",
    "            mutex -= 1\n",
    "    return spike_train\n"
   ]
  },
  {
   "cell_type": "code",
   "execution_count": 10,
   "metadata": {},
   "outputs": [],
   "source": [
    "\"\"\"\n",
    "Testing\n",
    "\"\"\"\n",
    "def test():\n",
    "    num_input = len(x_test)\n",
    "\n",
    "    Tsim = 0.1\n",
    "    dt = 0.001\n",
    "    v_rest = 0\n",
    "    v_th = 1\n",
    "    Tlen = int(np.round(Tsim/dt))\n",
    "    \n",
    "    A_test = np.zeros((num_input, Tlen, hidden_size))\n",
    "    h = PSC_filter(Tsim, dt)\n",
    "    t = np.linspace(0, Tsim, Tlen)\n",
    "    for i, (alpha, J_bias, e) in enumerate(zip(alpha_vec, J_bias_vec, e_vec)):\n",
    "        a_x = np.zeros((num_input, Tlen))\n",
    "        \n",
    "        # run test on input\n",
    "        for j in range(num_input):\n",
    "            J_M = np.multiply(alpha, np.inner(e, x_test[j].reshape(input_size))) + J_bias\n",
    "            Jin = J_M*np.ones(Tlen)\n",
    "\n",
    "            spike_train = simulate_neuron(Tsim, dt, t_rc, t_ref, v_rest, v_th, Jin) #Only Jin changes on different function call\n",
    "            a_x[j] = np.convolve(spike_train, h, 'same')\n",
    "            \n",
    "        A_test[:,:,i] = a_x\n",
    "\n",
    "    \n",
    "    accuracy_history = np.zeros(Tlen)\n",
    "    for t_i in range(Tlen):\n",
    "        x_hat_test = np.dot(A_test[:,t_i,:], decoder) #decode activity of the population\n",
    "        cnt = sum(1 for i in range(num_input) if np.argmax(x_hat_test[i]) != np.argmax(one_hot_test[i]))#count error rate of model    \n",
    "        accuracy_rate = 100 - 100*cnt/num_input #compute error rate of model\n",
    "        accuracy_history[t_i] = accuracy_rate\n",
    "\n",
    "    \"\"\"\n",
    "    Accuracy over time\n",
    "    \"\"\" \n",
    "    plt.figure(figsize=(20,10))\n",
    "    plt.plot(t, accuracy_history, '.-')\n",
    "    plt.title(f'Accuracy of model in function of time')\n",
    "    plt.xlabel('Time [s]')\n",
    "    plt.ylabel('Accuracy on test set [%]')\n",
    "    plt.grid('on')\n",
    "    plt.show()\n",
    "    \n",
    "    print(f\"Testing Error: {np.round(100 - accuracy_history[-1])}\")"
   ]
  },
  {
   "cell_type": "code",
   "execution_count": 11,
   "metadata": {},
   "outputs": [],
   "source": [
    "def run(categories):\n",
    "    getData(categories)\n",
    "    train()\n",
    "    test()"
   ]
  },
  {
   "cell_type": "markdown",
   "metadata": {},
   "source": [
    "### Results"
   ]
  },
  {
   "cell_type": "markdown",
   "metadata": {},
   "source": [
    "Neurons | Testing Error:\n",
    "\n",
    "- 4 - 33%\n",
    "- 8 - 29%\n",
    "- 16 - 27%\n",
    "- 32 - 26%\n",
    "- 64 - 21%\n",
    "- 128 - 17%"
   ]
  },
  {
   "cell_type": "markdown",
   "metadata": {},
   "source": [
    "### Final Output\n",
    "\n",
    "**Training to Classify Images as Residential or Industrial**"
   ]
  },
  {
   "cell_type": "code",
   "execution_count": 14,
   "metadata": {},
   "outputs": [
    {
     "name": "stdout",
     "output_type": "stream",
     "text": [
      "Total images (Industrial): 2500\n",
      "Training (Industrial):  2000\n",
      "Validation (Industrial):  0\n",
      "Testing (Industrial):  500\n",
      "Total images (Residential): 3000\n",
      "Training (Residential):  2400\n",
      "Validation (Residential):  0\n",
      "Testing (Residential):  600\n"
     ]
    },
    {
     "data": {
      "image/png": "[encoded data removed]",
      "text/plain": [
       "<Figure size 1440x720 with 1 Axes>"
      ]
     },
     "metadata": {
      "needs_background": "light"
     },
     "output_type": "display_data"
    },
    {
     "name": "stdout",
     "output_type": "stream",
     "text": [
      "Testing Error: 31.0\n"
     ]
    }
   ],
   "source": [
    "run([\"Industrial\", \"Residential\"])"
   ]
  },
  {
   "cell_type": "markdown",
   "metadata": {},
   "source": [
    "References:\n",
    "\n",
    "- Ali Safa. (2020, July 19). Digit Classification Using a One-Hidden-Layer Spiking Neural Network (Version V1.3). Zenodo. http://doi.org/10.5281/zenodo.3951585\n",
    "- Eliasmith, Chris, and Charles H. Anderson. Neural Engineering: Computation, Representation, and Dynamics in Neurobiological Systems. Mitt Press, 2003. \n",
    "- Eric Hunsberger, Chris Eliasmith: “Spiking Deep Networks with LIF Neurons”, 2015; <a href='http://arxiv.org/abs/1510.08829'>arXiv:1510.08829</a>.\n",
    "- Runchun Wang, Chetan Singh Thakur, Tara Julia Hamilton, Jonathan Tapson, Andre van Schaik: “A neuromorphic hardware architecture using the Neural Engineering Framework for pattern recognition”, 2015; <a href='http://arxiv.org/abs/1507.05695'>arXiv:1507.05695</a>.\n",
    "- J. Dethier, V. Gilja, P. Nuyujukian, S. A. Elassaad, K. V. Shenoy, & K. Boahen (2011). Spiking neural network decoder for brain-machine interfaces. In 2011 5th International IEEE/EMBS Conference on Neural Engineering (pp. 396-399).\n",
    "- Terrence C. Stewart. A technical overview of the neural engineering framework. Technical Report, Centre for Theoretical Neuroscience, 2012.\n",
    "- Bekolay T, Bergstra J, Hunsberger E, DeWolf T, Stewart TC, Rasmussen D, Choo X, Voelker AR and Eliasmith C (2014) Nengo: a Python tool for building large-scale functional brain models. Front. Neuroinform. 7:48. doi: 10.3389/fninf.2013.00048\n",
    "- Eurosat: A novel dataset and deep learning benchmark for land use and land cover classification. Patrick Helber, Benjamin Bischke, Andreas Dengel, Damian Borth. IEEE Journal of Selected Topics in Applied Earth Observations and Remote Sensing, 2019.\n",
    "- Introducing EuroSAT: A Novel Dataset and Deep Learning Benchmark for Land Use and Land Cover Classification. Patrick Helber, Benjamin Bischke, Andreas Dengel. 2018 IEEE International Geoscience and Remote Sensing Symposium, 2018.\n",
    "\n"
   ]
  },
  {
   "cell_type": "code",
   "execution_count": null,
   "metadata": {},
   "outputs": [],
   "source": []
  }
 ],
 "metadata": {
  "kernelspec": {
   "display_name": "Python 3",
   "language": "python",
   "name": "python3"
  },
  "language_info": {
   "codemirror_mode": {
    "name": "ipython",
    "version": 3
   },
   "file_extension": ".py",
   "mimetype": "text/x-python",
   "name": "python",
   "nbconvert_exporter": "python",
   "pygments_lexer": "ipython3",
   "version": "3.7.7"
  }
 },
 "nbformat": 4,
 "nbformat_minor": 4
}
